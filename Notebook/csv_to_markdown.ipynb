{
 "cells": [
  {
   "cell_type": "code",
   "execution_count": 1,
   "id": "48915055-0a83-47ef-8dee-f303c53cc188",
   "metadata": {},
   "outputs": [
    {
     "name": "stdout",
     "output_type": "stream",
     "text": [
      "Requirement already satisfied: csvtomd in ./env3.9/lib/python3.9/site-packages (0.3.0)\n",
      "Note: you may need to restart the kernel to use updated packages.\n"
     ]
    }
   ],
   "source": [
    "pip install csvtomd"
   ]
  },
  {
   "cell_type": "code",
   "execution_count": 2,
   "id": "60d40831-b2c8-4908-b2fb-67a3cba16a77",
   "metadata": {},
   "outputs": [
    {
     "name": "stdout",
     "output_type": "stream",
     "text": [
      "Requirement already satisfied: pip in ./env3.9/lib/python3.9/site-packages (24.0)\n"
     ]
    }
   ],
   "source": [
    "!python -m pip install --upgrade pip"
   ]
  },
  {
   "cell_type": "code",
   "execution_count": 3,
   "id": "8f659b0b-8a6f-4cab-8206-7755a0f1b8f2",
   "metadata": {},
   "outputs": [],
   "source": [
    "import csvtomd"
   ]
  },
  {
   "cell_type": "code",
   "execution_count": 4,
   "id": "44fb5fdb-add2-4c3d-8380-fe2a8fac4a8e",
   "metadata": {},
   "outputs": [
    {
     "name": "stdout",
     "output_type": "stream",
     "text": [
      "Requirement already satisfied: csvtomd in ./env3.9/lib/python3.9/site-packages (0.3.0)\n"
     ]
    }
   ],
   "source": [
    "!pip install csvtomd"
   ]
  },
  {
   "cell_type": "code",
   "execution_count": 5,
   "id": "d54a74a8-036a-4a2f-9f93-6887b767feaa",
   "metadata": {},
   "outputs": [
    {
     "name": "stdout",
     "output_type": "stream",
     "text": [
      "Name: csvtomd\n",
      "Version: 0.3.0\n",
      "Summary: Convert your CSV files into Markdown tables.\n",
      "Home-page: https://github.com/mplewis/csvtomd\n",
      "Author: Matthew Lewis\n",
      "Author-email: matt@mplewis.com\n",
      "License: MIT\n",
      "Location: /home/floriane/Documents/segmentation/env3.9/lib/python3.9/site-packages\n",
      "Requires: \n",
      "Required-by: \n"
     ]
    }
   ],
   "source": [
    "!pip show csvtomd"
   ]
  },
  {
   "cell_type": "code",
   "execution_count": 13,
   "id": "168c8a2f-f2d9-4935-8d1a-276ac377fce5",
   "metadata": {},
   "outputs": [
    {
     "data": {
      "text/plain": [
       "0"
      ]
     },
     "execution_count": 13,
     "metadata": {},
     "output_type": "execute_result"
    }
   ],
   "source": [
    "import os\n",
    "# Replace '.csv' with your actual csv file path\n",
    "csv_file_path = 'seg_issues.csv'\n",
    "md_file_path = 'seg_issues.md'\n",
    "# Use csvtomd to convert CSV to MD\n",
    "os.system(f'csvtomd {csv_file_path} > {md_file_path}')"
   ]
  },
  {
   "cell_type": "code",
   "execution_count": 14,
   "id": "e2f03e27-a487-4bdf-a416-699440147c65",
   "metadata": {},
   "outputs": [
    {
     "name": "stdout",
     "output_type": "stream",
     "text": [
      "Identifier               |  DropCapitalZone issues                                                                                    |  GraphicZone issues\n",
      "-------------------------|------------------------------------------------------------------------------------------------------------|-----------------------------------------------------------------------------------------------------------------------------------------------------------------------------------------------------------------------\n",
      "Aretius_1-Tim            |  [page_00469.xml](data/Aretius_1-Tim/page_00469.xml)                                                       |  [page_00469.xml](data/Aretius_1-Tim/page_00469.xml)\n",
      "Bucer_Eph_b              |                                                                                                            |  [90_fee98_default.xml](data/Bucer_Eph_b/90_fee98_default.xml); [204_89ed9_default.xml](data/Bucer_Eph_b/204_89ed9_default.xml)\n",
      "Lambertus-Danaeus_1-Tim  |                                                                                                            |  [4_6c6d2_default.xml](data/Daneau_1-Tim/4_6c6d2_default.xml)\n",
      "T_M_Daneau_1_Tim_C1      |  [2012887.xml](data/T_M_Daneau_1_Tim_C1/2012887.xml)                                                       |  [2012913.xml](data/T_M_Daneau_1_Tim_C1/2012913.xml);  |[2012885.xml](data/T_M_Daneau_1_Tim_C1/2012885.xml);  [2012908.xml](data/T_M_Daneau_1_Tim_C1/2012908.xml); [2012913.xml](data/T_M_Daneau_1_Tim_C1/2012913.xml)\n",
      "T_M_Daneau_1_Tim_C2      |  [2012950.xml](data/T_M_Daneau_1_Tim_C2/2012950.xml); [2013003.xml](data/T_M_Daneau_1_Tim_C2/2013003.xml)  |  [2012950.xml](data/T_M_Daneau_1_Tim_C2/2012950.xml);  [2013003.xml](data/T_M_Daneau_1_Tim_C2/2013003.xml)\n",
      "Index_Lambert            |  [2012909.xml](data/index_Lambert/2012909.xml)                                                             |  [2012909.xml](data/index_Lambert/2012909.xml);  [2012910.xml](data/index_Lambert/2012910.xml)\n"
     ]
    }
   ],
   "source": [
    "!cat seg_issues.md"
   ]
  },
  {
   "cell_type": "code",
   "execution_count": null,
   "id": "245f246e-7a03-4ba6-8684-33da17669f39",
   "metadata": {},
   "outputs": [],
   "source": []
  }
 ],
 "metadata": {
  "kernelspec": {
   "display_name": "Python 3 (ipykernel)",
   "language": "python",
   "name": "python3"
  },
  "language_info": {
   "codemirror_mode": {
    "name": "ipython",
    "version": 3
   },
   "file_extension": ".py",
   "mimetype": "text/x-python",
   "name": "python",
   "nbconvert_exporter": "python",
   "pygments_lexer": "ipython3",
   "version": "3.9.10"
  }
 },
 "nbformat": 4,
 "nbformat_minor": 5
}
